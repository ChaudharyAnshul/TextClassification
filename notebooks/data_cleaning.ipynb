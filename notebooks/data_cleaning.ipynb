{
 "cells": [
  {
   "cell_type": "markdown",
   "metadata": {},
   "source": [
    "# Data Cleaning for Text Classification\n",
    "\n",
    "\n",
    "Created By [Anshul Chaudhary](https://www.linkedin.com/in/chaudharyanshul/)"
   ]
  },
  {
   "cell_type": "markdown",
   "metadata": {},
   "source": [
    "### Basic Data Processing"
   ]
  },
  {
   "cell_type": "code",
   "execution_count": 1,
   "metadata": {},
   "outputs": [],
   "source": [
    "import pandas as pd"
   ]
  },
  {
   "cell_type": "code",
   "execution_count": 46,
   "metadata": {},
   "outputs": [],
   "source": [
    "# load raw data\n",
    "data = pd.read_json('..\\data\\excerpts.jsonl', lines=True)"
   ]
  },
  {
   "cell_type": "code",
   "execution_count": 3,
   "metadata": {},
   "outputs": [
    {
     "data": {
      "text/html": [
       "<div>\n",
       "<style scoped>\n",
       "    .dataframe tbody tr th:only-of-type {\n",
       "        vertical-align: middle;\n",
       "    }\n",
       "\n",
       "    .dataframe tbody tr th {\n",
       "        vertical-align: top;\n",
       "    }\n",
       "\n",
       "    .dataframe thead th {\n",
       "        text-align: right;\n",
       "    }\n",
       "</style>\n",
       "<table border=\"1\" class=\"dataframe\">\n",
       "  <thead>\n",
       "    <tr style=\"text-align: right;\">\n",
       "      <th></th>\n",
       "      <th>id</th>\n",
       "      <th>document_id</th>\n",
       "      <th>document_title</th>\n",
       "      <th>content</th>\n",
       "      <th>is_table</th>\n",
       "      <th>prev_content</th>\n",
       "      <th>next_content</th>\n",
       "      <th>label</th>\n",
       "    </tr>\n",
       "  </thead>\n",
       "  <tbody>\n",
       "    <tr>\n",
       "      <th>0</th>\n",
       "      <td>71833445</td>\n",
       "      <td>510403</td>\n",
       "      <td>Deere &amp; Company 10-Q Q3 2023</td>\n",
       "      <td>​(d)Description of Severance Benefits. Subject...</td>\n",
       "      <td>False</td>\n",
       "      <td>​Condensed Notes to Interim Consolidated Finan...</td>\n",
       "      <td>None</td>\n",
       "      <td>None</td>\n",
       "    </tr>\n",
       "    <tr>\n",
       "      <th>1</th>\n",
       "      <td>73134247</td>\n",
       "      <td>512748</td>\n",
       "      <td>McDonald's Corporation 10-Q Q3 2020</td>\n",
       "      <td>{'normalized_csv': [], 'predicted_headers': []}</td>\n",
       "      <td>True</td>\n",
       "      <td>None</td>\n",
       "      <td>None</td>\n",
       "      <td>None</td>\n",
       "    </tr>\n",
       "    <tr>\n",
       "      <th>2</th>\n",
       "      <td>66528922</td>\n",
       "      <td>505472</td>\n",
       "      <td>Charter Communications, Inc. 10-K FY 2021</td>\n",
       "      <td>There were 193,730,992 shares of Class A commo...</td>\n",
       "      <td>False</td>\n",
       "      <td>directors, executive officers and the principa...</td>\n",
       "      <td>Information required by Part III is incorporat...</td>\n",
       "      <td>None</td>\n",
       "    </tr>\n",
       "    <tr>\n",
       "      <th>3</th>\n",
       "      <td>66095744</td>\n",
       "      <td>505112</td>\n",
       "      <td>A. O. Smith Corporation 10-K FY 2022</td>\n",
       "      <td>For the transition period from to</td>\n",
       "      <td>False</td>\n",
       "      <td>Amount of Award: ______ [RSUs] [Shares] [Targe...</td>\n",
       "      <td>Commission File Number 1-475</td>\n",
       "      <td>None</td>\n",
       "    </tr>\n",
       "    <tr>\n",
       "      <th>4</th>\n",
       "      <td>65948148</td>\n",
       "      <td>504996</td>\n",
       "      <td>Adobe Inc. 10-K FY 2020</td>\n",
       "      <td>(as amended and restated as of January 14, 2021)</td>\n",
       "      <td>False</td>\n",
       "      <td>None</td>\n",
       "      <td>Adobe Inc. (the “Company”), pursuant to its 20...</td>\n",
       "      <td>None</td>\n",
       "    </tr>\n",
       "  </tbody>\n",
       "</table>\n",
       "</div>"
      ],
      "text/plain": [
       "         id  document_id                             document_title  \\\n",
       "0  71833445       510403               Deere & Company 10-Q Q3 2023   \n",
       "1  73134247       512748        McDonald's Corporation 10-Q Q3 2020   \n",
       "2  66528922       505472  Charter Communications, Inc. 10-K FY 2021   \n",
       "3  66095744       505112       A. O. Smith Corporation 10-K FY 2022   \n",
       "4  65948148       504996                    Adobe Inc. 10-K FY 2020   \n",
       "\n",
       "                                             content  is_table  \\\n",
       "0  ​(d)Description of Severance Benefits. Subject...     False   \n",
       "1    {'normalized_csv': [], 'predicted_headers': []}      True   \n",
       "2  There were 193,730,992 shares of Class A commo...     False   \n",
       "3                 For the transition period from to      False   \n",
       "4   (as amended and restated as of January 14, 2021)     False   \n",
       "\n",
       "                                        prev_content  \\\n",
       "0  ​Condensed Notes to Interim Consolidated Finan...   \n",
       "1                                               None   \n",
       "2  directors, executive officers and the principa...   \n",
       "3  Amount of Award: ______ [RSUs] [Shares] [Targe...   \n",
       "4                                               None   \n",
       "\n",
       "                                        next_content label  \n",
       "0                                               None  None  \n",
       "1                                               None  None  \n",
       "2  Information required by Part III is incorporat...  None  \n",
       "3                      Commission File Number 1-475   None  \n",
       "4  Adobe Inc. (the “Company”), pursuant to its 20...  None  "
      ]
     },
     "execution_count": 3,
     "metadata": {},
     "output_type": "execute_result"
    }
   ],
   "source": [
    "# print data head\n",
    "data.head()"
   ]
  },
  {
   "cell_type": "code",
   "execution_count": 4,
   "metadata": {},
   "outputs": [
    {
     "data": {
      "text/plain": [
       "Index(['id', 'document_id', 'document_title', 'content', 'is_table',\n",
       "       'prev_content', 'next_content', 'label'],\n",
       "      dtype='object')"
      ]
     },
     "execution_count": 4,
     "metadata": {},
     "output_type": "execute_result"
    }
   ],
   "source": [
    "data.columns"
   ]
  },
  {
   "cell_type": "markdown",
   "metadata": {},
   "source": [
    "inference on the columns by looking at the data:\n",
    "\n",
    "* id - unique identifier for row\n",
    "* document_id - unique identifier document\n",
    "* document_title - title of the document \n",
    "* content - main content for the row\n",
    "* is_table - flag to indicate table \n",
    "* prev_content - previous content if any\n",
    "* next_content - next content if any\n",
    "* label - Classification factors of content(TEXT, NOISE, FINANCIAL-TABLE)"
   ]
  },
  {
   "cell_type": "code",
   "execution_count": 5,
   "metadata": {},
   "outputs": [
    {
     "data": {
      "text/plain": [
       "id                    0\n",
       "document_id           0\n",
       "document_title        0\n",
       "content               0\n",
       "is_table              0\n",
       "prev_content       3674\n",
       "next_content       3420\n",
       "label             10000\n",
       "dtype: int64"
      ]
     },
     "execution_count": 5,
     "metadata": {},
     "output_type": "execute_result"
    }
   ],
   "source": [
    "# check for null values\n",
    "data.isnull().sum()"
   ]
  },
  {
   "cell_type": "code",
   "execution_count": 6,
   "metadata": {},
   "outputs": [],
   "source": [
    "# get the labeled data from main data set\n",
    "df_labeled = data.dropna(subset=['label'])"
   ]
  },
  {
   "cell_type": "code",
   "execution_count": 7,
   "metadata": {},
   "outputs": [
    {
     "data": {
      "text/plain": [
       "(382, 8)"
      ]
     },
     "execution_count": 7,
     "metadata": {},
     "output_type": "execute_result"
    }
   ],
   "source": [
    "df_labeled.shape"
   ]
  },
  {
   "cell_type": "markdown",
   "metadata": {},
   "source": [
    "Now we only have labeled data"
   ]
  },
  {
   "cell_type": "code",
   "execution_count": 8,
   "metadata": {},
   "outputs": [
    {
     "data": {
      "text/plain": [
       "id                  0\n",
       "document_id         0\n",
       "document_title      0\n",
       "content             0\n",
       "is_table            0\n",
       "prev_content      163\n",
       "next_content      112\n",
       "label               0\n",
       "dtype: int64"
      ]
     },
     "execution_count": 8,
     "metadata": {},
     "output_type": "execute_result"
    }
   ],
   "source": [
    "df_labeled.isnull().sum()"
   ]
  },
  {
   "cell_type": "markdown",
   "metadata": {},
   "source": [
    "Converting the content for table in markdown format for model to easily identify the data"
   ]
  },
  {
   "cell_type": "code",
   "execution_count": 9,
   "metadata": {},
   "outputs": [],
   "source": [
    "def extract_normalized_table(input) -> str:\n",
    "    if type(input) == dict:\n",
    "        if 'normalized_csv' in input:\n",
    "            table_data = []\n",
    "            col_sep = '|'\n",
    "            row_sep = '.'  \n",
    "            rows = [row for row in input['normalized_csv']]\n",
    "            for row in rows:\n",
    "                row_data = [col for col in row]\n",
    "                row_str = [row_data[i] + col_sep for i in range(len(row_data))]                \n",
    "                # Example: Consumer installment loans| 35| 35| 6| 6| 41| 41| —| —| 6| 6|.\n",
    "                table_data.append(' '.join(row_str).replace('\\n', ' ') + row_sep)      \n",
    "                \n",
    "            return '\\n'.join(table_data) if table_data else ''\n",
    "    return input"
   ]
  },
  {
   "cell_type": "code",
   "execution_count": 10,
   "metadata": {},
   "outputs": [
    {
     "data": {
      "text/plain": [
       "'Continuing Operations| Three Months Ended| Three Months Ended| Three Months Ended| Twelve Months Ended| Twelve Months Ended| Twelve Months Ended|.\\n($ in millions, except per share)| Aug. 2, 2020| Jul. 28, 2019| % Change| Aug. 2, 2020| Jul. 28, 2019| % Change|.\\nNet Sales| | | | | | |.\\nAs Reported (GAAP)| $2,108| $1,780| 18%| $8,691| $8,107| 7%|.\\nOrganic| | | 12%| | | 7%|.\\nEarnings Before Interest and Taxes (EBIT)| | | | | | |.\\nAs Reported (GAAP)| $167| $83| 101%| $1,107| $979| 13%|.\\nAdjusted| $307| $252| 22%| $1,449| $1,266| 14%|.\\nDiluted Earnings Per Share| | | | | | |.\\nAs Reported (GAAP)| $0.28| $(0.02)| n/m| $1.95| $1.57| 24%|.\\nAdjusted| $0.63| $0.42| 50%| $2.95| $2.30| 28%|.'"
      ]
     },
     "execution_count": 10,
     "metadata": {},
     "output_type": "execute_result"
    }
   ],
   "source": [
    "# try function on table\n",
    "extract_normalized_table(df_labeled[df_labeled[\"is_table\"] == True][\"content\"].iloc[0])"
   ]
  },
  {
   "cell_type": "code",
   "execution_count": 11,
   "metadata": {},
   "outputs": [
    {
     "data": {
      "text/plain": [
       "'6. Conditions to Obligations. The several obligations of the Underwriters are subject to the following conditions: (a) No stop order suspending the effectiveness of the Registration Statement shall be in effect, and no proceedings for such purpose shall be pending before or threatened by the Commission. (b) The representations and warranties of the Company contained in this Agreement shall be true and correct as of the date hereof and as of the Closing Date, and the Company shall have complied with all of the agreements and satisfied all of the conditions on its part to be performed or satisfied hereunder on or before the Closing Date. (c) Subsequent to the execution and delivery of this Agreement and prior to the Closing Date: (i) there shall not have occurred any downgrading, nor shall any notice have been given of any intended or potential downgrading or of any review for a possible change (other than a notice of a possible upgrading), in the rating accorded any of the securities of the Company or any of its subsidiaries or affiliates by any \\x93nationally recognized statistical rating organization,\\x94 as such term is defined in Section 3(a)(62) of the Exchange Act; and (ii) there shall not have occurred any change, or any development involving a prospective change, in the condition, financial or otherwise, or in the earnings, business, management or operations of the Company and its subsidiaries, taken as a whole, from that set forth in the Time of Sale Prospectus that, in the judgment of the Representatives, is material and adverse and that makes it, in the judgment of the Representatives, impracticable to market the Securities on the terms and in the manner contemplated in the Time of Sale Prospectus. (d) The Underwriters shall have received on the Closing Date a certificate, dated the Closing Date and signed by an executive officer of the Company, to the effect set forth in Section 6(c)(ii) above and to the effect that the representations and warranties of the Company contained in this Agreement are true and correct as of the Closing Date and that the Company has complied with all of the agreements and satisfied all of the conditions on its part to be performed or satisfied hereunder on or before the Closing Date. The officer signing and delivering such certificate may rely upon the best of his or her knowledge as to proceedings threatened. (e) The Underwriters shall have received on the Closing Date an opinion and letter of Sullivan & Cromwell LLP, counsel for the Company, dated the Closing Date, with respect to such matters and in such form as is reasonably satisfactory to the Representatives. The opinion of Sullivan & Cromwell LLP described in this Section 6(e) shall be rendered to the Underwriters at the request of the Company and shall so state therein. 13 '"
      ]
     },
     "execution_count": 11,
     "metadata": {},
     "output_type": "execute_result"
    }
   ],
   "source": [
    "# try to function on non table\n",
    "extract_normalized_table(df_labeled[df_labeled[\"is_table\"] == False][\"content\"].iloc[0])"
   ]
  },
  {
   "cell_type": "code",
   "execution_count": 12,
   "metadata": {},
   "outputs": [
    {
     "name": "stderr",
     "output_type": "stream",
     "text": [
      "C:\\Users\\anshu\\AppData\\Local\\Temp\\ipykernel_24096\\2756829616.py:1: SettingWithCopyWarning: \n",
      "A value is trying to be set on a copy of a slice from a DataFrame.\n",
      "Try using .loc[row_indexer,col_indexer] = value instead\n",
      "\n",
      "See the caveats in the documentation: https://pandas.pydata.org/pandas-docs/stable/user_guide/indexing.html#returning-a-view-versus-a-copy\n",
      "  df_labeled[\"text\"] = df_labeled[\"content\"].apply(lambda x: extract_normalized_table(x))\n"
     ]
    }
   ],
   "source": [
    "df_labeled[\"text\"] = df_labeled[\"content\"].apply(lambda x: extract_normalized_table(x))"
   ]
  },
  {
   "cell_type": "code",
   "execution_count": 13,
   "metadata": {},
   "outputs": [
    {
     "data": {
      "text/html": [
       "<div>\n",
       "<style scoped>\n",
       "    .dataframe tbody tr th:only-of-type {\n",
       "        vertical-align: middle;\n",
       "    }\n",
       "\n",
       "    .dataframe tbody tr th {\n",
       "        vertical-align: top;\n",
       "    }\n",
       "\n",
       "    .dataframe thead th {\n",
       "        text-align: right;\n",
       "    }\n",
       "</style>\n",
       "<table border=\"1\" class=\"dataframe\">\n",
       "  <thead>\n",
       "    <tr style=\"text-align: right;\">\n",
       "      <th></th>\n",
       "      <th>id</th>\n",
       "      <th>document_id</th>\n",
       "      <th>document_title</th>\n",
       "      <th>content</th>\n",
       "      <th>is_table</th>\n",
       "      <th>prev_content</th>\n",
       "      <th>next_content</th>\n",
       "      <th>label</th>\n",
       "      <th>text</th>\n",
       "    </tr>\n",
       "  </thead>\n",
       "  <tbody>\n",
       "    <tr>\n",
       "      <th>16</th>\n",
       "      <td>75846004</td>\n",
       "      <td>522393</td>\n",
       "      <td>CFG 8-K 10/25/18</td>\n",
       "      <td>6. Conditions to Obligations. The several obli...</td>\n",
       "      <td>False</td>\n",
       "      <td>None</td>\n",
       "      <td>(f) The Underwriters shall have received on th...</td>\n",
       "      <td>TEXT</td>\n",
       "      <td>6. Conditions to Obligations. The several obli...</td>\n",
       "    </tr>\n",
       "    <tr>\n",
       "      <th>32</th>\n",
       "      <td>79398889</td>\n",
       "      <td>551017</td>\n",
       "      <td>URI 8-K 12/07/22</td>\n",
       "      <td>C: (203) 399-8951</td>\n",
       "      <td>False</td>\n",
       "      <td>None</td>\n",
       "      <td>Indicate by check mark whether the registrant ...</td>\n",
       "      <td>NOISE</td>\n",
       "      <td>C: (203) 399-8951</td>\n",
       "    </tr>\n",
       "    <tr>\n",
       "      <th>37</th>\n",
       "      <td>76351219</td>\n",
       "      <td>526475</td>\n",
       "      <td>DIS 8-K 05/08/19 Earnings Release</td>\n",
       "      <td>1</td>\n",
       "      <td>False</td>\n",
       "      <td>None</td>\n",
       "      <td>The following table summarizes the second quar...</td>\n",
       "      <td>NOISE</td>\n",
       "      <td>1</td>\n",
       "    </tr>\n",
       "    <tr>\n",
       "      <th>59</th>\n",
       "      <td>76180796</td>\n",
       "      <td>524955</td>\n",
       "      <td>CPB 8-K 09/03/20 Earnings Release</td>\n",
       "      <td>{'normalized_csv': [['Continuing Operations', ...</td>\n",
       "      <td>True</td>\n",
       "      <td>today reported results for its fourth-quarter ...</td>\n",
       "      <td>None</td>\n",
       "      <td>FIN_TABLE</td>\n",
       "      <td>Continuing Operations| Three Months Ended| Thr...</td>\n",
       "    </tr>\n",
       "    <tr>\n",
       "      <th>66</th>\n",
       "      <td>75324462</td>\n",
       "      <td>518706</td>\n",
       "      <td>AME 8-K 05/12/22 Entry into a Material Definit...</td>\n",
       "      <td>Berwyn, Pa., May 13, 2022 – AMETEK, Inc. (NYSE...</td>\n",
       "      <td>False</td>\n",
       "      <td>None</td>\n",
       "      <td>__________________</td>\n",
       "      <td>TEXT</td>\n",
       "      <td>Berwyn, Pa., May 13, 2022 – AMETEK, Inc. (NYSE...</td>\n",
       "    </tr>\n",
       "    <tr>\n",
       "      <th>...</th>\n",
       "      <td>...</td>\n",
       "      <td>...</td>\n",
       "      <td>...</td>\n",
       "      <td>...</td>\n",
       "      <td>...</td>\n",
       "      <td>...</td>\n",
       "      <td>...</td>\n",
       "      <td>...</td>\n",
       "      <td>...</td>\n",
       "    </tr>\n",
       "    <tr>\n",
       "      <th>10262</th>\n",
       "      <td>75619840</td>\n",
       "      <td>520903</td>\n",
       "      <td>BSX 8-K 01/21/21</td>\n",
       "      <td>651-582-4251</td>\n",
       "      <td>False</td>\n",
       "      <td>Media Relations</td>\n",
       "      <td>Laura.Aumann@bsci.com</td>\n",
       "      <td>NOISE</td>\n",
       "      <td>651-582-4251</td>\n",
       "    </tr>\n",
       "    <tr>\n",
       "      <th>10274</th>\n",
       "      <td>77860175</td>\n",
       "      <td>538981</td>\n",
       "      <td>MO 8-K 02/19/20</td>\n",
       "      <td>{'normalized_csv': [['•', 'required or volunta...</td>\n",
       "      <td>True</td>\n",
       "      <td>None</td>\n",
       "      <td>Check the appropriate box below if the Form 8-...</td>\n",
       "      <td>TEXT</td>\n",
       "      <td>•| required or voluntary product recalls as a ...</td>\n",
       "    </tr>\n",
       "    <tr>\n",
       "      <th>10342</th>\n",
       "      <td>79707613</td>\n",
       "      <td>552983</td>\n",
       "      <td>WBA 8-K 10/28/20</td>\n",
       "      <td>buy or sell securities. You understand that th...</td>\n",
       "      <td>False</td>\n",
       "      <td>None</td>\n",
       "      <td>[OGEUKISO21] 15. Insider Trading/Market Abuse ...</td>\n",
       "      <td>NOISE</td>\n",
       "      <td>buy or sell securities. You understand that th...</td>\n",
       "    </tr>\n",
       "    <tr>\n",
       "      <th>10350</th>\n",
       "      <td>79001032</td>\n",
       "      <td>547719</td>\n",
       "      <td>SYY 8-K 05/07/18</td>\n",
       "      <td>{'normalized_csv': [['☐', 'Written communicati...</td>\n",
       "      <td>True</td>\n",
       "      <td>U.S. Foodservice Operations</td>\n",
       "      <td>Sales for the third quarter were $9.7 billion,...</td>\n",
       "      <td>NOISE</td>\n",
       "      <td>☐| Written communications pursuant to Rule 425...</td>\n",
       "    </tr>\n",
       "    <tr>\n",
       "      <th>10376</th>\n",
       "      <td>67883947</td>\n",
       "      <td>506580</td>\n",
       "      <td>Microsoft Corporation 10-K FY 2018</td>\n",
       "      <td>The following is a list of subsidiaries of the...</td>\n",
       "      <td>False</td>\n",
       "      <td>None</td>\n",
       "      <td>We consent to the incorporation by reference i...</td>\n",
       "      <td>TEXT</td>\n",
       "      <td>The following is a list of subsidiaries of the...</td>\n",
       "    </tr>\n",
       "  </tbody>\n",
       "</table>\n",
       "<p>382 rows × 9 columns</p>\n",
       "</div>"
      ],
      "text/plain": [
       "             id  document_id  \\\n",
       "16     75846004       522393   \n",
       "32     79398889       551017   \n",
       "37     76351219       526475   \n",
       "59     76180796       524955   \n",
       "66     75324462       518706   \n",
       "...         ...          ...   \n",
       "10262  75619840       520903   \n",
       "10274  77860175       538981   \n",
       "10342  79707613       552983   \n",
       "10350  79001032       547719   \n",
       "10376  67883947       506580   \n",
       "\n",
       "                                          document_title  \\\n",
       "16                                     CFG 8-K 10/25/18    \n",
       "32                                     URI 8-K 12/07/22    \n",
       "37                     DIS 8-K 05/08/19 Earnings Release   \n",
       "59                     CPB 8-K 09/03/20 Earnings Release   \n",
       "66     AME 8-K 05/12/22 Entry into a Material Definit...   \n",
       "...                                                  ...   \n",
       "10262                                  BSX 8-K 01/21/21    \n",
       "10274                                   MO 8-K 02/19/20    \n",
       "10342                                  WBA 8-K 10/28/20    \n",
       "10350                                  SYY 8-K 05/07/18    \n",
       "10376                 Microsoft Corporation 10-K FY 2018   \n",
       "\n",
       "                                                 content  is_table  \\\n",
       "16     6. Conditions to Obligations. The several obli...     False   \n",
       "32                                     C: (203) 399-8951     False   \n",
       "37                                                     1     False   \n",
       "59     {'normalized_csv': [['Continuing Operations', ...      True   \n",
       "66     Berwyn, Pa., May 13, 2022 – AMETEK, Inc. (NYSE...     False   \n",
       "...                                                  ...       ...   \n",
       "10262                                       651-582-4251     False   \n",
       "10274  {'normalized_csv': [['•', 'required or volunta...      True   \n",
       "10342  buy or sell securities. You understand that th...     False   \n",
       "10350  {'normalized_csv': [['☐', 'Written communicati...      True   \n",
       "10376  The following is a list of subsidiaries of the...     False   \n",
       "\n",
       "                                            prev_content  \\\n",
       "16                                                  None   \n",
       "32                                                  None   \n",
       "37                                                  None   \n",
       "59     today reported results for its fourth-quarter ...   \n",
       "66                                                  None   \n",
       "...                                                  ...   \n",
       "10262                                    Media Relations   \n",
       "10274                                               None   \n",
       "10342                                               None   \n",
       "10350                       U.S. Foodservice Operations    \n",
       "10376                                               None   \n",
       "\n",
       "                                            next_content      label  \\\n",
       "16     (f) The Underwriters shall have received on th...       TEXT   \n",
       "32     Indicate by check mark whether the registrant ...      NOISE   \n",
       "37     The following table summarizes the second quar...      NOISE   \n",
       "59                                                  None  FIN_TABLE   \n",
       "66                                    __________________       TEXT   \n",
       "...                                                  ...        ...   \n",
       "10262                              Laura.Aumann@bsci.com      NOISE   \n",
       "10274  Check the appropriate box below if the Form 8-...       TEXT   \n",
       "10342  [OGEUKISO21] 15. Insider Trading/Market Abuse ...      NOISE   \n",
       "10350  Sales for the third quarter were $9.7 billion,...      NOISE   \n",
       "10376  We consent to the incorporation by reference i...       TEXT   \n",
       "\n",
       "                                                    text  \n",
       "16     6. Conditions to Obligations. The several obli...  \n",
       "32                                     C: (203) 399-8951  \n",
       "37                                                     1  \n",
       "59     Continuing Operations| Three Months Ended| Thr...  \n",
       "66     Berwyn, Pa., May 13, 2022 – AMETEK, Inc. (NYSE...  \n",
       "...                                                  ...  \n",
       "10262                                       651-582-4251  \n",
       "10274  •| required or voluntary product recalls as a ...  \n",
       "10342  buy or sell securities. You understand that th...  \n",
       "10350  ☐| Written communications pursuant to Rule 425...  \n",
       "10376  The following is a list of subsidiaries of the...  \n",
       "\n",
       "[382 rows x 9 columns]"
      ]
     },
     "execution_count": 13,
     "metadata": {},
     "output_type": "execute_result"
    }
   ],
   "source": [
    "\n",
    "df_labeled"
   ]
  },
  {
   "cell_type": "markdown",
   "metadata": {},
   "source": [
    "### Visualizing Data"
   ]
  },
  {
   "cell_type": "code",
   "execution_count": 14,
   "metadata": {},
   "outputs": [],
   "source": [
    "import matplotlib.pyplot as plt"
   ]
  },
  {
   "cell_type": "code",
   "execution_count": 17,
   "metadata": {},
   "outputs": [
    {
     "data": {
      "image/png": "[encoded data removed]",
      "text/plain": [
       "<Figure size 640x480 with 1 Axes>"
      ]
     },
     "metadata": {},
     "output_type": "display_data"
    }
   ],
   "source": [
    "# Plot histogram to understand the average word count \n",
    "count_text = df_labeled['text'].apply(lambda x: len(x.split()))\n",
    "count_text.hist()\n",
    "\n",
    "# Add titles and labels\n",
    "plt.title('Histogram of Word Count')\n",
    "plt.xlabel('Word Count')\n",
    "plt.ylabel('Frequency')\n",
    "\n",
    "# Show the plot\n",
    "plt.show()"
   ]
  },
  {
   "cell_type": "markdown",
   "metadata": {},
   "source": [
    "observations:\n",
    "\n",
    "* The max number of words are around 0-250 range\n",
    "* There will be no need to chunk the data, given the embedding will be less than equal to 512 tokens"
   ]
  },
  {
   "cell_type": "code",
   "execution_count": 15,
   "metadata": {},
   "outputs": [
    {
     "data": {
      "text/plain": [
       "label\n",
       "NOISE        170\n",
       "TEXT         140\n",
       "FIN_TABLE     72\n",
       "Name: count, dtype: int64"
      ]
     },
     "execution_count": 15,
     "metadata": {},
     "output_type": "execute_result"
    }
   ],
   "source": [
    "# label count to get idea about the distribution of the data \n",
    "label_count = df_labeled['label'].value_counts()\n",
    "label_count"
   ]
  },
  {
   "cell_type": "code",
   "execution_count": 19,
   "metadata": {},
   "outputs": [
    {
     "data": {
      "image/png": "[encoded data removed]",
      "text/plain": [
       "<Figure size 640x480 with 1 Axes>"
      ]
     },
     "metadata": {},
     "output_type": "display_data"
    }
   ],
   "source": [
    "# Create a bar plot\n",
    "label_count.plot(kind='bar')\n",
    "\n",
    "# Add titles and labels\n",
    "plt.title('Count of Labels')\n",
    "plt.xlabel('Labels')\n",
    "plt.ylabel('Count')\n",
    "\n",
    "# Show the plot\n",
    "plt.show()"
   ]
  },
  {
   "cell_type": "markdown",
   "metadata": {},
   "source": [
    "observations:\n",
    "\n",
    "* The data distribution is not equal there might be some bias after training model on this data"
   ]
  },
  {
   "cell_type": "markdown",
   "metadata": {},
   "source": [
    "### Preparing Data For Training"
   ]
  },
  {
   "cell_type": "markdown",
   "metadata": {},
   "source": [
    "##### Encode Label"
   ]
  },
  {
   "cell_type": "code",
   "execution_count": 16,
   "metadata": {},
   "outputs": [],
   "source": [
    "from sklearn.preprocessing import LabelEncoder\n",
    "import pickle"
   ]
  },
  {
   "cell_type": "code",
   "execution_count": 17,
   "metadata": {},
   "outputs": [
    {
     "name": "stderr",
     "output_type": "stream",
     "text": [
      "C:\\Users\\anshu\\AppData\\Local\\Temp\\ipykernel_24096\\1590422653.py:5: SettingWithCopyWarning: \n",
      "A value is trying to be set on a copy of a slice from a DataFrame.\n",
      "Try using .loc[row_indexer,col_indexer] = value instead\n",
      "\n",
      "See the caveats in the documentation: https://pandas.pydata.org/pandas-docs/stable/user_guide/indexing.html#returning-a-view-versus-a-copy\n",
      "  df_labeled['label_encoded'] = label_encoder.fit_transform(df_labeled['label'])\n"
     ]
    }
   ],
   "source": [
    "# Initialize the label encoder\n",
    "label_encoder = LabelEncoder()  \n",
    "\n",
    "# Train Encoder\n",
    "df_labeled['label_encoded'] = label_encoder.fit_transform(df_labeled['label'])"
   ]
  },
  {
   "cell_type": "code",
   "execution_count": 18,
   "metadata": {},
   "outputs": [],
   "source": [
    "# Export Encoder\n",
    "encoder_path = \"../models/encoder_model.pkl\"\n",
    "\n",
    "with open(encoder_path, \"wb\") as f: \n",
    "  pickle.dump(label_encoder, f)"
   ]
  },
  {
   "cell_type": "markdown",
   "metadata": {},
   "source": [
    "##### Remove unwanted data"
   ]
  },
  {
   "cell_type": "code",
   "execution_count": 19,
   "metadata": {},
   "outputs": [],
   "source": [
    "df = df_labeled[[\"text\",\"label_encoded\"]]"
   ]
  },
  {
   "cell_type": "code",
   "execution_count": 20,
   "metadata": {},
   "outputs": [
    {
     "data": {
      "text/html": [
       "<div>\n",
       "<style scoped>\n",
       "    .dataframe tbody tr th:only-of-type {\n",
       "        vertical-align: middle;\n",
       "    }\n",
       "\n",
       "    .dataframe tbody tr th {\n",
       "        vertical-align: top;\n",
       "    }\n",
       "\n",
       "    .dataframe thead th {\n",
       "        text-align: right;\n",
       "    }\n",
       "</style>\n",
       "<table border=\"1\" class=\"dataframe\">\n",
       "  <thead>\n",
       "    <tr style=\"text-align: right;\">\n",
       "      <th></th>\n",
       "      <th>text</th>\n",
       "      <th>label_encoded</th>\n",
       "    </tr>\n",
       "  </thead>\n",
       "  <tbody>\n",
       "    <tr>\n",
       "      <th>16</th>\n",
       "      <td>6. Conditions to Obligations. The several obli...</td>\n",
       "      <td>2</td>\n",
       "    </tr>\n",
       "    <tr>\n",
       "      <th>32</th>\n",
       "      <td>C: (203) 399-8951</td>\n",
       "      <td>1</td>\n",
       "    </tr>\n",
       "    <tr>\n",
       "      <th>37</th>\n",
       "      <td>1</td>\n",
       "      <td>1</td>\n",
       "    </tr>\n",
       "    <tr>\n",
       "      <th>59</th>\n",
       "      <td>Continuing Operations| Three Months Ended| Thr...</td>\n",
       "      <td>0</td>\n",
       "    </tr>\n",
       "    <tr>\n",
       "      <th>66</th>\n",
       "      <td>Berwyn, Pa., May 13, 2022 – AMETEK, Inc. (NYSE...</td>\n",
       "      <td>2</td>\n",
       "    </tr>\n",
       "  </tbody>\n",
       "</table>\n",
       "</div>"
      ],
      "text/plain": [
       "                                                 text  label_encoded\n",
       "16  6. Conditions to Obligations. The several obli...              2\n",
       "32                                  C: (203) 399-8951              1\n",
       "37                                                  1              1\n",
       "59  Continuing Operations| Three Months Ended| Thr...              0\n",
       "66  Berwyn, Pa., May 13, 2022 – AMETEK, Inc. (NYSE...              2"
      ]
     },
     "execution_count": 20,
     "metadata": {},
     "output_type": "execute_result"
    }
   ],
   "source": [
    "df.head()"
   ]
  },
  {
   "cell_type": "markdown",
   "metadata": {},
   "source": [
    "##### Export Data"
   ]
  },
  {
   "cell_type": "code",
   "execution_count": 21,
   "metadata": {},
   "outputs": [],
   "source": [
    "# Save the data\n",
    "df.to_json(\"../data/clean_data.json\", orient='records')"
   ]
  },
  {
   "cell_type": "markdown",
   "metadata": {},
   "source": [
    "### convert and export all data keep only text and label"
   ]
  },
  {
   "cell_type": "code",
   "execution_count": 47,
   "metadata": {},
   "outputs": [
    {
     "data": {
      "text/plain": [
       "Index(['id', 'document_id', 'document_title', 'content', 'is_table',\n",
       "       'prev_content', 'next_content', 'label'],\n",
       "      dtype='object')"
      ]
     },
     "execution_count": 47,
     "metadata": {},
     "output_type": "execute_result"
    }
   ],
   "source": [
    "data.columns"
   ]
  },
  {
   "cell_type": "code",
   "execution_count": 48,
   "metadata": {},
   "outputs": [],
   "source": [
    "data[\"text\"] = data[\"content\"].apply(lambda x: extract_normalized_table(x))"
   ]
  },
  {
   "cell_type": "code",
   "execution_count": 49,
   "metadata": {},
   "outputs": [],
   "source": [
    "data.drop(['id', 'document_id', 'document_title', 'is_table','prev_content', 'next_content', 'content'], axis=1, inplace=True)"
   ]
  },
  {
   "cell_type": "code",
   "execution_count": 50,
   "metadata": {},
   "outputs": [
    {
     "data": {
      "text/html": [
       "<div>\n",
       "<style scoped>\n",
       "    .dataframe tbody tr th:only-of-type {\n",
       "        vertical-align: middle;\n",
       "    }\n",
       "\n",
       "    .dataframe tbody tr th {\n",
       "        vertical-align: top;\n",
       "    }\n",
       "\n",
       "    .dataframe thead th {\n",
       "        text-align: right;\n",
       "    }\n",
       "</style>\n",
       "<table border=\"1\" class=\"dataframe\">\n",
       "  <thead>\n",
       "    <tr style=\"text-align: right;\">\n",
       "      <th></th>\n",
       "      <th>label</th>\n",
       "      <th>text</th>\n",
       "    </tr>\n",
       "  </thead>\n",
       "  <tbody>\n",
       "    <tr>\n",
       "      <th>0</th>\n",
       "      <td>None</td>\n",
       "      <td>​(d)Description of Severance Benefits. Subject...</td>\n",
       "    </tr>\n",
       "    <tr>\n",
       "      <th>1</th>\n",
       "      <td>None</td>\n",
       "      <td></td>\n",
       "    </tr>\n",
       "    <tr>\n",
       "      <th>2</th>\n",
       "      <td>None</td>\n",
       "      <td>There were 193,730,992 shares of Class A commo...</td>\n",
       "    </tr>\n",
       "    <tr>\n",
       "      <th>3</th>\n",
       "      <td>None</td>\n",
       "      <td>For the transition period from to</td>\n",
       "    </tr>\n",
       "    <tr>\n",
       "      <th>4</th>\n",
       "      <td>None</td>\n",
       "      <td>(as amended and restated as of January 14, 2021)</td>\n",
       "    </tr>\n",
       "  </tbody>\n",
       "</table>\n",
       "</div>"
      ],
      "text/plain": [
       "  label                                               text\n",
       "0  None  ​(d)Description of Severance Benefits. Subject...\n",
       "1  None                                                   \n",
       "2  None  There were 193,730,992 shares of Class A commo...\n",
       "3  None                 For the transition period from to \n",
       "4  None   (as amended and restated as of January 14, 2021)"
      ]
     },
     "execution_count": 50,
     "metadata": {},
     "output_type": "execute_result"
    }
   ],
   "source": [
    "data.head()"
   ]
  },
  {
   "cell_type": "code",
   "execution_count": 52,
   "metadata": {},
   "outputs": [],
   "source": [
    "# Save the unlabeled data\n",
    "data.to_json(\"../data/unlabeled_data.json\", orient='records')"
   ]
  },
  {
   "cell_type": "code",
   "execution_count": null,
   "metadata": {},
   "outputs": [],
   "source": []
  }
 ],
 "metadata": {
  "kernelspec": {
   "display_name": "venv",
   "language": "python",
   "name": "python3"
  },
  "language_info": {
   "codemirror_mode": {
    "name": "ipython",
    "version": 3
   },
   "file_extension": ".py",
   "mimetype": "text/x-python",
   "name": "python",
   "nbconvert_exporter": "python",
   "pygments_lexer": "ipython3",
   "version": "3.11.5"
  }
 },
 "nbformat": 4,
 "nbformat_minor": 2
}
